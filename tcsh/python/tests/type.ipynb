{
 "cells": [
  {
   "cell_type": "markdown",
   "id": "81a0b85e",
   "metadata": {},
   "source": [
    "# Import Tiger and type"
   ]
  },
  {
   "cell_type": "code",
   "execution_count": 1,
   "id": "9cb3bce5",
   "metadata": {},
   "outputs": [],
   "source": [
    "import tc"
   ]
  },
  {
   "cell_type": "code",
   "execution_count": 2,
   "id": "be38c5fe",
   "metadata": {},
   "outputs": [
    {
     "data": {
      "text/plain": [
       "True"
      ]
     },
     "execution_count": 2,
     "metadata": {},
     "output_type": "execute_result"
    }
   ],
   "source": [
    "tc.has(\"type\")"
   ]
  },
  {
   "cell_type": "code",
   "execution_count": 3,
   "id": "9fe09a20",
   "metadata": {},
   "outputs": [
    {
     "data": {
      "text/plain": [
       "True"
      ]
     },
     "execution_count": 3,
     "metadata": {},
     "output_type": "execute_result"
    }
   ],
   "source": [
    "import tiger_type\n",
    "tiger_type == tc.type"
   ]
  },
  {
   "cell_type": "markdown",
   "id": "3b3a7285",
   "metadata": {},
   "source": [
    "# Type Library"
   ]
  },
  {
   "cell_type": "code",
   "execution_count": 4,
   "id": "2be2f25d",
   "metadata": {},
   "outputs": [
    {
     "data": {
      "text/plain": [
       "['Array',\n",
       " 'Class',\n",
       " 'Class_object_instance',\n",
       " 'Field',\n",
       " 'Function',\n",
       " 'Int',\n",
       " 'Method',\n",
       " 'Named',\n",
       " 'Nil',\n",
       " 'Record',\n",
       " 'String',\n",
       " 'Type',\n",
       " 'Void',\n",
       " 'cvar',\n",
       " 'hide_actual_types',\n",
       " 'types_check']"
      ]
     },
     "execution_count": 4,
     "metadata": {},
     "output_type": "execute_result"
    }
   ],
   "source": [
    "list(filter(lambda e: not e.startswith(\"_\") and not e.startswith(\"tiger\"), dir(tc.type)))"
   ]
  },
  {
   "cell_type": "markdown",
   "id": "35825bf6",
   "metadata": {},
   "source": [
    "# Type Ast\n",
    "We use this to only parse the ast and don't run code after TC4, but use Tiger Magics"
   ]
  },
  {
   "cell_type": "code",
   "execution_count": 5,
   "id": "0ee4cd72",
   "metadata": {},
   "outputs": [
    {
     "name": "stdout",
     "output_type": "stream",
     "text": [
      "<class 'tiger_ast.ChunkList'>\n"
     ]
    }
   ],
   "source": [
    "import tempfile\n",
    "\n",
    "with tempfile.NamedTemporaryFile() as f:\n",
    "    f.write(b\"let var b := 5 in print_int(b) end\")\n",
    "    f.seek(0)\n",
    "    ast = tc.ti.TiExecutor(f.name).type()\n",
    "print(type(ast))"
   ]
  },
  {
   "cell_type": "code",
   "execution_count": 6,
   "id": "703bb878",
   "metadata": {},
   "outputs": [],
   "source": [
    "# all variables are identical to ast.ipynb \n",
    "main_chunk = ast[1]\n",
    "main_function = main_chunk[0]\n",
    "main_body = main_function.body_get()\n",
    "let = main_body.exps_get()[0]\n",
    "var_chk = let.chunks_get()[0]\n",
    "var_b = var_chk[0]\n",
    "print_call = let.body_get()\n",
    "print_arg = print_call.args_get()[0]"
   ]
  },
  {
   "cell_type": "code",
   "execution_count": 7,
   "id": "40ad7839",
   "metadata": {},
   "outputs": [
    {
     "name": "stdout",
     "output_type": "stream",
     "text": [
      "<class 'tiger_type.Int'>\n",
      "int\n"
     ]
    }
   ],
   "source": [
    "print(type(var_b.type_get()))\n",
    "print(str(var_b.type_get()))"
   ]
  },
  {
   "cell_type": "code",
   "execution_count": 8,
   "id": "be462b0c",
   "metadata": {},
   "outputs": [
    {
     "name": "stdout",
     "output_type": "stream",
     "text": [
      "main_function: \n",
      "{\n",
      "} -> void\n",
      "main_body: void\n",
      "let: void\n",
      "var_b: int\n",
      "print_call: void\n",
      "print_arg: int\n"
     ]
    }
   ],
   "source": [
    "for e in (\"main_function\", \"main_body\", \"let\", \"var_b\", \"print_call\", \"print_arg\"):\n",
    "    if hasattr(globals()[e], \"type_get\"):\n",
    "        print(e, globals()[e].type_get(), sep=\": \")"
   ]
  }
 ],
 "metadata": {
  "kernelspec": {
   "display_name": "Python 3 (ipykernel)",
   "language": "python",
   "name": "python3"
  },
  "language_info": {
   "codemirror_mode": {
    "name": "ipython",
    "version": 3
   },
   "file_extension": ".py",
   "mimetype": "text/x-python",
   "name": "python",
   "nbconvert_exporter": "python",
   "pygments_lexer": "ipython3",
   "version": "3.10.2"
  }
 },
 "nbformat": 4,
 "nbformat_minor": 5
}
