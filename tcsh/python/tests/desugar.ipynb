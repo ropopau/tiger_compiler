{
 "cells": [
  {
   "cell_type": "markdown",
   "id": "b8caa27f",
   "metadata": {},
   "source": [
    "# Import Tiger and Desugar"
   ]
  },
  {
   "cell_type": "code",
   "execution_count": 1,
   "id": "9cb3bce5",
   "metadata": {},
   "outputs": [],
   "source": [
    "import tc"
   ]
  },
  {
   "cell_type": "code",
   "execution_count": 2,
   "id": "be38c5fe",
   "metadata": {},
   "outputs": [
    {
     "data": {
      "text/plain": [
       "True"
      ]
     },
     "execution_count": 2,
     "metadata": {},
     "output_type": "execute_result"
    }
   ],
   "source": [
    "tc.has(\"desugar\")"
   ]
  },
  {
   "cell_type": "code",
   "execution_count": 3,
   "id": "9fe09a20",
   "metadata": {},
   "outputs": [
    {
     "data": {
      "text/plain": [
       "True"
      ]
     },
     "execution_count": 3,
     "metadata": {},
     "output_type": "execute_result"
    }
   ],
   "source": [
    "import tiger_desugar\n",
    "tiger_desugar == tc.desugar"
   ]
  },
  {
   "cell_type": "markdown",
   "id": "3b3a7285",
   "metadata": {},
   "source": [
    "# Desugar Library"
   ]
  },
  {
   "cell_type": "code",
   "execution_count": 4,
   "id": "2be2f25d",
   "metadata": {},
   "outputs": [
    {
     "data": {
      "text/plain": [
       "['desugar', 'raw_desugar']"
      ]
     },
     "execution_count": 4,
     "metadata": {},
     "output_type": "execute_result"
    }
   ],
   "source": [
    "list(filter(lambda e: not e.startswith(\"_\") and not e.startswith(\"tiger\"), dir(tc.desugar)))"
   ]
  },
  {
   "cell_type": "markdown",
   "id": "35825bf6",
   "metadata": {},
   "source": [
    "# Desugar Ast\n",
    "We use this to only parse the ast and don't run code after TC4, but use Tiger Magics"
   ]
  },
  {
   "cell_type": "code",
   "execution_count": 5,
   "id": "0ee4cd72",
   "metadata": {},
   "outputs": [
    {
     "name": "stdout",
     "output_type": "stream",
     "text": [
      "<class 'tiger_ast.ChunkList'>\n"
     ]
    }
   ],
   "source": [
    "import tempfile\n",
    "\n",
    "with tempfile.NamedTemporaryFile() as f:\n",
    "    f.write(b\"for i := 1 to 10 do (i; ())\")\n",
    "    f.seek(0)\n",
    "    ast = tc.ti.TiExecutor(f.name).type()\n",
    "print(type(ast))"
   ]
  },
  {
   "cell_type": "code",
   "execution_count": 6,
   "id": "d0e05897",
   "metadata": {},
   "outputs": [
    {
     "name": "stdout",
     "output_type": "stream",
     "text": [
      "\n",
      "primitive print(string : string)\n",
      "primitive print_err(string : string)\n",
      "primitive print_int(int : int)\n",
      "primitive flush()\n",
      "primitive getchar() : string\n",
      "primitive ord(string : string) : int\n",
      "primitive chr(code : int) : string\n",
      "primitive size(string : string) : int\n",
      "primitive streq(s1 : string, s2 : string) : int\n",
      "primitive strcmp(s1 : string, s2 : string) : int\n",
      "primitive substring(string : string, start : int, length : int) : string\n",
      "primitive concat(fst : string, snd : string) : string\n",
      "primitive not(boolean : int) : int\n",
      "primitive exit(status : int)\n",
      "function _main() =\n",
      "  (\n",
      "    (for i := 1 to 10 do\n",
      "      (\n",
      "        i;\n",
      "        ()\n",
      "      ));\n",
      "    ()\n",
      "  )\n"
     ]
    }
   ],
   "source": [
    "print(ast)"
   ]
  },
  {
   "cell_type": "code",
   "execution_count": 7,
   "id": "29d68680",
   "metadata": {},
   "outputs": [
    {
     "data": {
      "text/plain": [
       "<function tiger_desugar.raw_desugar(tree: 'Ast', desugar_for: 'bool' = False, desugar_string_cmp: 'bool' = False) -> 'ast::Ast *'>"
      ]
     },
     "execution_count": 7,
     "metadata": {},
     "output_type": "execute_result"
    }
   ],
   "source": [
    "tc.desugar.raw_desugar"
   ]
  },
  {
   "cell_type": "code",
   "execution_count": 8,
   "id": "04a11b99",
   "metadata": {},
   "outputs": [
    {
     "name": "stdout",
     "output_type": "stream",
     "text": [
      "\n",
      "primitive print(string : string)\n",
      "primitive print_err(string : string)\n",
      "primitive print_int(int : int)\n",
      "primitive flush()\n",
      "primitive getchar() : string\n",
      "primitive ord(string : string) : int\n",
      "primitive chr(code : int) : string\n",
      "primitive size(string : string) : int\n",
      "primitive streq(s1 : string, s2 : string) : int\n",
      "primitive strcmp(s1 : string, s2 : string) : int\n",
      "primitive substring(string : string, start : int, length : int) : string\n",
      "primitive concat(fst : string, snd : string) : string\n",
      "primitive not(boolean : int) : int\n",
      "primitive exit(status : int)\n",
      "function _main() =\n",
      "  (\n",
      "    let\n",
      "      var _lo := 1\n",
      "      var _hi := 10\n",
      "      var i := _lo\n",
      "    in\n",
      "      (if (_lo <= _hi)\n",
      "        then (while 1 do\n",
      "            (\n",
      "              (\n",
      "                i;\n",
      "                ()\n",
      "              );\n",
      "              (if (i = _hi)\n",
      "                then break\n",
      "                else ());\n",
      "              (i := (i + 1))\n",
      "            ))\n",
      "        else ())\n",
      "    end;\n",
      "    ()\n",
      "  )\n"
     ]
    }
   ],
   "source": [
    "ast_raw = tc.desugar.raw_desugar(ast, True, True)\n",
    "print(ast_raw)"
   ]
  },
  {
   "cell_type": "code",
   "execution_count": 9,
   "id": "da86985d",
   "metadata": {},
   "outputs": [
    {
     "data": {
      "text/plain": [
       "<function tiger_desugar.desugar(tree: 'Ast', desugar_for: 'bool' = False, desugar_string_cmp: 'bool' = False) -> 'ast::Ast *'>"
      ]
     },
     "execution_count": 9,
     "metadata": {},
     "output_type": "execute_result"
    }
   ],
   "source": [
    "tc.desugar.desugar"
   ]
  },
  {
   "cell_type": "code",
   "execution_count": 10,
   "id": "86f1bcc7",
   "metadata": {},
   "outputs": [
    {
     "name": "stdout",
     "output_type": "stream",
     "text": [
      "\n",
      "primitive print(string : string)\n",
      "primitive print_err(string : string)\n",
      "primitive print_int(int : int)\n",
      "primitive flush()\n",
      "primitive getchar() : string\n",
      "primitive ord(string : string) : int\n",
      "primitive chr(code : int) : string\n",
      "primitive size(string : string) : int\n",
      "primitive streq(s1 : string, s2 : string) : int\n",
      "primitive strcmp(s1 : string, s2 : string) : int\n",
      "primitive substring(string : string, start : int, length : int) : string\n",
      "primitive concat(fst : string, snd : string) : string\n",
      "primitive not(boolean : int) : int\n",
      "primitive exit(status : int)\n",
      "function _main() =\n",
      "  (\n",
      "    let\n",
      "      var _lo := 1\n",
      "      var _hi := 10\n",
      "      var i := _lo\n",
      "    in\n",
      "      (if (_lo <= _hi)\n",
      "        then (while 1 do\n",
      "            (\n",
      "              (\n",
      "                i;\n",
      "                ()\n",
      "              );\n",
      "              (if (i = _hi)\n",
      "                then break\n",
      "                else ());\n",
      "              (i := (i + 1))\n",
      "            ))\n",
      "        else ())\n",
      "    end;\n",
      "    ()\n",
      "  )\n"
     ]
    }
   ],
   "source": [
    "ast = tc.desugar.desugar(ast, True, True)\n",
    "print(ast)"
   ]
  }
 ],
 "metadata": {
  "kernelspec": {
   "display_name": "Python 3 (ipykernel)",
   "language": "python",
   "name": "python3"
  },
  "language_info": {
   "codemirror_mode": {
    "name": "ipython",
    "version": 3
   },
   "file_extension": ".py",
   "mimetype": "text/x-python",
   "name": "python",
   "nbconvert_exporter": "python",
   "pygments_lexer": "ipython3",
   "version": "3.10.2"
  }
 },
 "nbformat": 4,
 "nbformat_minor": 5
}
