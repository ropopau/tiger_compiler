{
 "cells": [
  {
   "cell_type": "markdown",
   "id": "3f7f66b6",
   "metadata": {},
   "source": [
    "# Import Tiger and bind"
   ]
  },
  {
   "cell_type": "code",
   "execution_count": 1,
   "id": "9cb3bce5",
   "metadata": {},
   "outputs": [],
   "source": [
    "import tc"
   ]
  },
  {
   "cell_type": "code",
   "execution_count": 2,
   "id": "be38c5fe",
   "metadata": {},
   "outputs": [
    {
     "data": {
      "text/plain": [
       "True"
      ]
     },
     "execution_count": 2,
     "metadata": {},
     "output_type": "execute_result"
    }
   ],
   "source": [
    "tc.has(\"bind\")"
   ]
  },
  {
   "cell_type": "code",
   "execution_count": 3,
   "id": "9fe09a20",
   "metadata": {},
   "outputs": [
    {
     "data": {
      "text/plain": [
       "True"
      ]
     },
     "execution_count": 3,
     "metadata": {},
     "output_type": "execute_result"
    }
   ],
   "source": [
    "import tiger_bind\n",
    "tiger_bind == tc.bind"
   ]
  },
  {
   "cell_type": "markdown",
   "id": "3b3a7285",
   "metadata": {},
   "source": [
    "# Bind Library"
   ]
  },
  {
   "cell_type": "code",
   "execution_count": 4,
   "id": "2be2f25d",
   "metadata": {},
   "outputs": [
    {
     "data": {
      "text/plain": [
       "['bind', 'rename']"
      ]
     },
     "execution_count": 4,
     "metadata": {},
     "output_type": "execute_result"
    }
   ],
   "source": [
    "list(filter(lambda e: not e.startswith(\"_\") and not e.startswith(\"tiger\"), dir(tc.bind)))"
   ]
  },
  {
   "cell_type": "markdown",
   "id": "35825bf6",
   "metadata": {},
   "source": [
    "# Bind Ast\n",
    "We use this to only parse the ast and don't run code after TC3, but use Tiger Magics"
   ]
  },
  {
   "cell_type": "code",
   "execution_count": 5,
   "id": "0ee4cd72",
   "metadata": {},
   "outputs": [
    {
     "name": "stdout",
     "output_type": "stream",
     "text": [
      "<class 'tiger_ast.ChunkList'>\n"
     ]
    }
   ],
   "source": [
    "import tempfile\n",
    "\n",
    "with tempfile.NamedTemporaryFile() as f:\n",
    "    f.write(b\"let var b := 5 in print_int(b) end\")\n",
    "    f.seek(0)\n",
    "    ast = tc.ti.TiExecutor(f.name).bind()\n",
    "print(type(ast))"
   ]
  },
  {
   "cell_type": "code",
   "execution_count": 6,
   "id": "703bb878",
   "metadata": {},
   "outputs": [],
   "source": [
    "# all variables are identical to ast.ipynb \n",
    "main_chunk = ast[1]\n",
    "main_function = main_chunk[0]\n",
    "main_body = main_function.body_get()\n",
    "let = main_body.exps_get()[0]\n",
    "var_chk = let.chunks_get()[0]\n",
    "var_b = var_chk[0]\n",
    "print_call = let.body_get()\n",
    "print_arg = print_call.args_get()[0]"
   ]
  },
  {
   "cell_type": "code",
   "execution_count": 7,
   "id": "991c55bf",
   "metadata": {},
   "outputs": [],
   "source": [
    "def find_builtin(ast: tc.ast.ChunkList, name: str):\n",
    "    key = tc.misc.symbol(name)\n",
    "    for fns in ast[0]:\n",
    "        if fns.name_get() == key:\n",
    "            return fns\n",
    "    return None"
   ]
  },
  {
   "cell_type": "code",
   "execution_count": 8,
   "id": "a0fc3d00",
   "metadata": {},
   "outputs": [
    {
     "name": "stdout",
     "output_type": "stream",
     "text": [
      "<class 'tiger_ast.FunctionDec'> \n",
      "primitive print_int(int : int)\n",
      "True\n",
      "True\n",
      "False\n",
      "False\n",
      "True\n"
     ]
    }
   ],
   "source": [
    "ref_print_int = print_call.def_get()\n",
    "print(type(ref_print_int), str(ref_print_int))\n",
    "\n",
    "builtin_print_int = find_builtin(ast, \"print_int\")\n",
    "builtin_print = find_builtin(ast, \"print\")\n",
    "\n",
    "print(ref_print_int == builtin_print_int)\n",
    "print(builtin_print_int == ref_print_int)\n",
    "print(ref_print_int == builtin_print)\n",
    "print(builtin_print == ref_print_int)\n",
    "\n",
    "print(print_arg.def_get() == var_b)"
   ]
  },
  {
   "cell_type": "markdown",
   "id": "3c997fb0",
   "metadata": {},
   "source": [
    "# Bind Rename"
   ]
  },
  {
   "cell_type": "code",
   "execution_count": 9,
   "id": "ff0b5358",
   "metadata": {},
   "outputs": [],
   "source": [
    "tc.bind.rename(ast)"
   ]
  },
  {
   "cell_type": "code",
   "execution_count": 10,
   "id": "fcccea94",
   "metadata": {},
   "outputs": [],
   "source": [
    "# all variables are identical to ast.ipynb \n",
    "main_chunk = ast[1]\n",
    "main_function = main_chunk[0]\n",
    "main_body = main_function.body_get()\n",
    "let = main_body.exps_get()[0]\n",
    "var_chk = let.chunks_get()[0]\n",
    "var_b = var_chk[0]\n",
    "print_call = let.body_get()\n",
    "print_arg = print_call.args_get()[0]"
   ]
  },
  {
   "cell_type": "code",
   "execution_count": 11,
   "id": "1ba1374c",
   "metadata": {},
   "outputs": [
    {
     "name": "stdout",
     "output_type": "stream",
     "text": [
      "True\n",
      "True\n",
      "False\n",
      "False\n",
      "True\n"
     ]
    }
   ],
   "source": [
    "ref_print_int = print_call.def_get()\n",
    "builtin_print_int = find_builtin(ast, \"print_int\")\n",
    "builtin_print = find_builtin(ast, \"print\")\n",
    "\n",
    "print(ref_print_int == builtin_print_int)\n",
    "print(builtin_print_int == ref_print_int)\n",
    "print(ref_print_int == builtin_print)\n",
    "print(builtin_print == ref_print_int)\n",
    "\n",
    "print(print_arg.def_get() == var_b)"
   ]
  }
 ],
 "metadata": {
  "kernelspec": {
   "display_name": "Python 3 (ipykernel)",
   "language": "python",
   "name": "python3"
  },
  "language_info": {
   "codemirror_mode": {
    "name": "ipython",
    "version": 3
   },
   "file_extension": ".py",
   "mimetype": "text/x-python",
   "name": "python",
   "nbconvert_exporter": "python",
   "pygments_lexer": "ipython3",
   "version": "3.10.2"
  }
 },
 "nbformat": 4,
 "nbformat_minor": 5
}
