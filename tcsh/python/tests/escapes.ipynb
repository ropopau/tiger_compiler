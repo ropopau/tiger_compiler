{
 "cells": [
  {
   "cell_type": "markdown",
   "id": "3f7f66b6",
   "metadata": {},
   "source": [
    "# Import Tiger and escapes"
   ]
  },
  {
   "cell_type": "code",
   "execution_count": 1,
   "id": "9cb3bce5",
   "metadata": {},
   "outputs": [],
   "source": [
    "import tc"
   ]
  },
  {
   "cell_type": "code",
   "execution_count": 2,
   "id": "be38c5fe",
   "metadata": {},
   "outputs": [
    {
     "data": {
      "text/plain": [
       "True"
      ]
     },
     "execution_count": 2,
     "metadata": {},
     "output_type": "execute_result"
    }
   ],
   "source": [
    "tc.has(\"escapes\")"
   ]
  },
  {
   "cell_type": "code",
   "execution_count": 3,
   "id": "9fe09a20",
   "metadata": {},
   "outputs": [
    {
     "data": {
      "text/plain": [
       "True"
      ]
     },
     "execution_count": 3,
     "metadata": {},
     "output_type": "execute_result"
    }
   ],
   "source": [
    "import tiger_escapes\n",
    "tiger_escapes == tc.escapes"
   ]
  },
  {
   "cell_type": "markdown",
   "id": "3b3a7285",
   "metadata": {},
   "source": [
    "# Escapes Library"
   ]
  },
  {
   "cell_type": "code",
   "execution_count": 4,
   "id": "2be2f25d",
   "metadata": {},
   "outputs": [
    {
     "data": {
      "text/plain": [
       "<function tiger_escapes.escapes_compute(tree: 'ast::Ast &') -> 'void'>"
      ]
     },
     "execution_count": 4,
     "metadata": {},
     "output_type": "execute_result"
    }
   ],
   "source": [
    "tc.escapes.escapes_compute"
   ]
  },
  {
   "cell_type": "markdown",
   "id": "35825bf6",
   "metadata": {},
   "source": [
    "# Escape\n",
    "We use this to only parse and bind the ast and don't run code after TC3, but use Tiger Magics"
   ]
  },
  {
   "cell_type": "code",
   "execution_count": 5,
   "id": "0ee4cd72",
   "metadata": {},
   "outputs": [
    {
     "name": "stdout",
     "output_type": "stream",
     "text": [
      "<class 'tiger_ast.ChunkList'>\n"
     ]
    }
   ],
   "source": [
    "import tempfile\n",
    "\n",
    "with tempfile.NamedTemporaryFile() as f:\n",
    "    f.write(b\"let var b := 5 in print_int(b) end\")\n",
    "    f.seek(0)\n",
    "    ast = tc.ti.TiExecutor(f.name).bind()\n",
    "print(type(ast))"
   ]
  },
  {
   "cell_type": "code",
   "execution_count": 6,
   "id": "371349e8",
   "metadata": {},
   "outputs": [],
   "source": [
    "tc.escapes.escapes_compute(ast)"
   ]
  },
  {
   "cell_type": "code",
   "execution_count": 7,
   "id": "703bb878",
   "metadata": {},
   "outputs": [],
   "source": [
    "# all variables are identical to ast.ipynb \n",
    "main_chunk = ast[1]\n",
    "main_function = main_chunk[0]\n",
    "main_body = main_function.body_get()\n",
    "let = main_body.exps_get()[0]\n",
    "var_chk = let.chunks_get()[0]\n",
    "var_b = var_chk[0]\n",
    "print_call = let.body_get()\n",
    "print_arg = print_call.args_get()[0]"
   ]
  },
  {
   "cell_type": "code",
   "execution_count": 8,
   "id": "c7ed8db8",
   "metadata": {},
   "outputs": [
    {
     "name": "stdout",
     "output_type": "stream",
     "text": [
      "False\n"
     ]
    }
   ],
   "source": [
    "print(var_b.escape_get())"
   ]
  }
 ],
 "metadata": {
  "kernelspec": {
   "display_name": "Python 3 (ipykernel)",
   "language": "python",
   "name": "python3"
  },
  "language_info": {
   "codemirror_mode": {
    "name": "ipython",
    "version": 3
   },
   "file_extension": ".py",
   "mimetype": "text/x-python",
   "name": "python",
   "nbconvert_exporter": "python",
   "pygments_lexer": "ipython3",
   "version": "3.10.2"
  }
 },
 "nbformat": 4,
 "nbformat_minor": 5
}
