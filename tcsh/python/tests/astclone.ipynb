{
 "cells": [
  {
   "cell_type": "markdown",
   "id": "b8caa27f",
   "metadata": {},
   "source": [
    "# Import Tiger and AstClone"
   ]
  },
  {
   "cell_type": "code",
   "execution_count": 1,
   "id": "9cb3bce5",
   "metadata": {},
   "outputs": [],
   "source": [
    "import tc"
   ]
  },
  {
   "cell_type": "code",
   "execution_count": 2,
   "id": "be38c5fe",
   "metadata": {},
   "outputs": [
    {
     "data": {
      "text/plain": [
       "True"
      ]
     },
     "execution_count": 2,
     "metadata": {},
     "output_type": "execute_result"
    }
   ],
   "source": [
    "tc.has(\"astclone\")"
   ]
  },
  {
   "cell_type": "code",
   "execution_count": 3,
   "id": "9fe09a20",
   "metadata": {},
   "outputs": [
    {
     "data": {
      "text/plain": [
       "True"
      ]
     },
     "execution_count": 3,
     "metadata": {},
     "output_type": "execute_result"
    }
   ],
   "source": [
    "import tiger_astclone\n",
    "tiger_astclone == tc.astclone"
   ]
  },
  {
   "cell_type": "markdown",
   "id": "3b3a7285",
   "metadata": {},
   "source": [
    "# Ast Clone Library"
   ]
  },
  {
   "cell_type": "code",
   "execution_count": 4,
   "id": "2be2f25d",
   "metadata": {},
   "outputs": [
    {
     "data": {
      "text/plain": [
       "['clone']"
      ]
     },
     "execution_count": 4,
     "metadata": {},
     "output_type": "execute_result"
    }
   ],
   "source": [
    "list(filter(lambda e: not e.startswith(\"_\") and not e.startswith(\"tiger\"), dir(tc.astclone)))"
   ]
  },
  {
   "cell_type": "markdown",
   "id": "35825bf6",
   "metadata": {},
   "source": [
    "# Clone Ast\n",
    "We use this to only parse the ast and don't run code after TC4, but use Tiger Magics"
   ]
  },
  {
   "cell_type": "code",
   "execution_count": 5,
   "id": "0ee4cd72",
   "metadata": {},
   "outputs": [
    {
     "name": "stdout",
     "output_type": "stream",
     "text": [
      "<class 'tiger_ast.ChunkList'>\n"
     ]
    }
   ],
   "source": [
    "import tempfile\n",
    "\n",
    "with tempfile.NamedTemporaryFile() as f:\n",
    "    f.write(b\"let var b := 5 in print_int(b) end\")\n",
    "    f.seek(0)\n",
    "    ast = tc.ti.TiExecutor(f.name).type()\n",
    "print(type(ast))"
   ]
  },
  {
   "cell_type": "code",
   "execution_count": 6,
   "id": "29d68680",
   "metadata": {},
   "outputs": [
    {
     "name": "stdout",
     "output_type": "stream",
     "text": [
      "False\n",
      "True\n",
      "<class 'tiger_ast.ChunkList'>\n"
     ]
    }
   ],
   "source": [
    "cloned_ast = tc.astclone.clone(ast)\n",
    "print(ast == cloned_ast)\n",
    "print(str(ast) == str(cloned_ast))\n",
    "print(type(cloned_ast))"
   ]
  },
  {
   "cell_type": "code",
   "execution_count": 7,
   "id": "5f1cb3e7",
   "metadata": {},
   "outputs": [
    {
     "name": "stdout",
     "output_type": "stream",
     "text": [
      "\n",
      "primitive print(string : string)\n",
      "primitive print_err(string : string)\n",
      "primitive print_int(int : int)\n",
      "primitive flush()\n",
      "primitive getchar() : string\n",
      "primitive ord(string : string) : int\n",
      "primitive chr(code : int) : string\n",
      "primitive size(string : string) : int\n",
      "primitive streq(s1 : string, s2 : string) : int\n",
      "primitive strcmp(s1 : string, s2 : string) : int\n",
      "primitive substring(string : string, start : int, length : int) : string\n",
      "primitive concat(fst : string, snd : string) : string\n",
      "primitive not(boolean : int) : int\n",
      "primitive exit(status : int)\n",
      "function _main() =\n",
      "  (\n",
      "    let\n",
      "      var b := 5\n",
      "    in\n",
      "      print_int(b)\n",
      "    end;\n",
      "    ()\n",
      "  )\n"
     ]
    }
   ],
   "source": [
    "print(cloned_ast)"
   ]
  }
 ],
 "metadata": {
  "kernelspec": {
   "display_name": "Python 3 (ipykernel)",
   "language": "python",
   "name": "python3"
  },
  "language_info": {
   "codemirror_mode": {
    "name": "ipython",
    "version": 3
   },
   "file_extension": ".py",
   "mimetype": "text/x-python",
   "name": "python",
   "nbconvert_exporter": "python",
   "pygments_lexer": "ipython3",
   "version": "3.10.2"
  }
 },
 "nbformat": 4,
 "nbformat_minor": 5
}
